{
  "nbformat": 4,
  "nbformat_minor": 0,
  "metadata": {
    "colab": {
      "provenance": [],
      "authorship_tag": "ABX9TyMgvM8+69bsOSo1UqBbhfL0",
      "include_colab_link": true
    },
    "kernelspec": {
      "name": "python3",
      "display_name": "Python 3"
    },
    "language_info": {
      "name": "python"
    }
  },
  "cells": [
    {
      "cell_type": "markdown",
      "metadata": {
        "id": "view-in-github",
        "colab_type": "text"
      },
      "source": [
        "<a href=\"https://colab.research.google.com/github/ManasiDodamani/Firstrepo/blob/main/Copy_of_add_pynb.ipynb\" target=\"_parent\"><img src=\"https://colab.research.google.com/assets/colab-badge.svg\" alt=\"Open In Colab\"/></a>"
      ]
    },
    {
      "cell_type": "markdown",
      "source": [
        "#Write a program to add the numbers."
      ],
      "metadata": {
        "id": "kubYRz_PCig3"
      }
    },
    {
      "cell_type": "code",
      "source": [
        "a=int(input(\"Enter the first number\"))\n",
        "b=int(input(\"Enter the second number\"))\n",
        "sum = a+b\n",
        "print(\"sum\",sum)"
      ],
      "metadata": {
        "colab": {
          "base_uri": "https://localhost:8080/"
        },
        "id": "jVFmBRVBCsDT",
        "outputId": "3de97e6b-7cb2-4fce-ed40-f867cf5945f6"
      },
      "execution_count": null,
      "outputs": [
        {
          "output_type": "stream",
          "name": "stdout",
          "text": [
            "Enter the first number4\n",
            "Enter the second number5\n",
            "sum 9\n"
          ]
        }
      ]
    },
    {
      "cell_type": "markdown",
      "source": [
        "#Write a program to find odd even number."
      ],
      "metadata": {
        "id": "mPTZJhN_DMWu"
      }
    },
    {
      "cell_type": "code",
      "source": [
        "num = int(input(\"Enter a Number:\"))\n",
        "if num % 2 == 0:\n",
        "  print(\"Given number is Even\")\n",
        "else:\n",
        "  print(\"Given number is Odd\")"
      ],
      "metadata": {
        "colab": {
          "base_uri": "https://localhost:8080/"
        },
        "id": "f3vjscfxDTmb",
        "outputId": "37bc9d3e-6a0b-4e31-d173-0953856cdc09"
      },
      "execution_count": null,
      "outputs": [
        {
          "output_type": "stream",
          "name": "stdout",
          "text": [
            "Enter a Number:6\n",
            "Given number is Even\n"
          ]
        }
      ]
    },
    {
      "cell_type": "markdown",
      "source": [
        "#Write a program to find largest number."
      ],
      "metadata": {
        "id": "e2SokOE3DxtT"
      }
    },
    {
      "cell_type": "code",
      "source": [
        "list1 = []\n",
        "num = int(input(\"Enter number of elements in list: \"))\n",
        "for i in range(1, num+1):\n",
        "  ele = int(input(\"Enter elements:\"))\n",
        "  list1.append(ele)\n",
        "print(\"Largest element is:\", max(list1))"
      ],
      "metadata": {
        "colab": {
          "base_uri": "https://localhost:8080/"
        },
        "id": "2vzTZgWtD5Z-",
        "outputId": "d084efdf-9511-468c-af6c-6db7c90d75f9"
      },
      "execution_count": null,
      "outputs": [
        {
          "output_type": "stream",
          "name": "stdout",
          "text": [
            "Enter number of elements in list: 5\n",
            "Enter elements:78\n",
            "Enter elements:89\n",
            "Enter elements:56\n",
            "Enter elements:99\n",
            "Enter elements:95\n",
            "Largest element is: 99\n"
          ]
        }
      ]
    }
  ]
}